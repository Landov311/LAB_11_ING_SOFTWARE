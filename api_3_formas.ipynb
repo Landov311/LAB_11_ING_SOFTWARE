{
 "cells": [
  {
   "cell_type": "markdown",
   "metadata": {
    "id": "7fiWe4F0QCIf"
   },
   "source": [
    "**EC2 - IMPLEMENTACION DISTANCIA ENTRE CIUDADES**\n",
    "\n",
    "**Integrantes:**\n",
    "- Lando Veramendi\n",
    "- Sergio Fierro\n",
    "\n",
    "Antes de Iniciar:\n",
    "- Subir el archivo \"worldcities.csv\" en Archivos"
   ]
  },
  {
   "cell_type": "code",
   "execution_count": 1,
   "metadata": {
    "colab": {
     "base_uri": "https://localhost:8080/",
     "height": 206
    },
    "id": "Z6_pIYa-hd1s",
    "outputId": "80451509-9e7f-44c4-d5a9-b2dd2d187007"
   },
   "outputs": [
    {
     "data": {
      "text/html": [
       "<div>\n",
       "<style scoped>\n",
       "    .dataframe tbody tr th:only-of-type {\n",
       "        vertical-align: middle;\n",
       "    }\n",
       "\n",
       "    .dataframe tbody tr th {\n",
       "        vertical-align: top;\n",
       "    }\n",
       "\n",
       "    .dataframe thead th {\n",
       "        text-align: right;\n",
       "    }\n",
       "</style>\n",
       "<table border=\"1\" class=\"dataframe\">\n",
       "  <thead>\n",
       "    <tr style=\"text-align: right;\">\n",
       "      <th></th>\n",
       "      <th>city,\"city_ascii\",\"lat\",\"lng\",\"country\",\"iso2\",\"iso3\",\"admin_name\",\"capital\",\"population\",\"id\"</th>\n",
       "    </tr>\n",
       "  </thead>\n",
       "  <tbody>\n",
       "    <tr>\n",
       "      <th>0</th>\n",
       "      <td>Tokyo,\"Tokyo\",\"35.6897\",\"139.6922\",\"Japan\",\"JP...</td>\n",
       "    </tr>\n",
       "    <tr>\n",
       "      <th>1</th>\n",
       "      <td>Jakarta,\"Jakarta\",\"-6.1750\",\"106.8275\",\"Indone...</td>\n",
       "    </tr>\n",
       "    <tr>\n",
       "      <th>2</th>\n",
       "      <td>Delhi,\"Delhi\",\"28.6100\",\"77.2300\",\"India\",\"IN\"...</td>\n",
       "    </tr>\n",
       "    <tr>\n",
       "      <th>3</th>\n",
       "      <td>Guangzhou,\"Guangzhou\",\"23.1300\",\"113.2600\",\"Ch...</td>\n",
       "    </tr>\n",
       "    <tr>\n",
       "      <th>4</th>\n",
       "      <td>Mumbai,\"Mumbai\",\"19.0761\",\"72.8775\",\"India\",\"I...</td>\n",
       "    </tr>\n",
       "  </tbody>\n",
       "</table>\n",
       "</div>"
      ],
      "text/plain": [
       "  city,\"city_ascii\",\"lat\",\"lng\",\"country\",\"iso2\",\"iso3\",\"admin_name\",\"capital\",\"population\",\"id\"\n",
       "0  Tokyo,\"Tokyo\",\"35.6897\",\"139.6922\",\"Japan\",\"JP...                                            \n",
       "1  Jakarta,\"Jakarta\",\"-6.1750\",\"106.8275\",\"Indone...                                            \n",
       "2  Delhi,\"Delhi\",\"28.6100\",\"77.2300\",\"India\",\"IN\"...                                            \n",
       "3  Guangzhou,\"Guangzhou\",\"23.1300\",\"113.2600\",\"Ch...                                            \n",
       "4  Mumbai,\"Mumbai\",\"19.0761\",\"72.8775\",\"India\",\"I...                                            "
      ]
     },
     "execution_count": 1,
     "metadata": {},
     "output_type": "execute_result"
    }
   ],
   "source": [
    "import pandas as pd\n",
    "\n",
    "wc_ds = pd.read_csv(\"worldcities.csv\")\n",
    "wc_ds.head()\n",
    "\n"
   ]
  },
  {
   "cell_type": "code",
   "execution_count": 2,
   "metadata": {
    "id": "EkZKsdbfjf7-"
   },
   "outputs": [],
   "source": [
    "def haversine(lat1, lon1, lat2, lon2):\n",
    "    R = 6371.0\n",
    "\n",
    "    lat1, lon1, lat2, lon2 = map(math.radians, [lat1, lon1, lat2, lon2])\n",
    "\n",
    "    dlat = lat2 - lat1\n",
    "    dlon = lon2 - lon1\n",
    "\n",
    "    a = math.sin(dlat / 2)**2 + math.cos(lat1) * math.cos(lat2) * math.sin(dlon / 2)**2\n",
    "    c = 2 * math.atan2(math.sqrt(a), math.sqrt(1 - a))\n",
    "\n",
    "    distance = R * c\n",
    "\n",
    "    return distance"
   ]
  },
  {
   "cell_type": "markdown",
   "metadata": {
    "id": "0RYydLI0to5w"
   },
   "source": [
    "**FUNCIONES UTILIZADAS**"
   ]
  },
  {
   "cell_type": "code",
   "execution_count": 3,
   "metadata": {
    "id": "KkeW1dD8ttIo"
   },
   "outputs": [],
   "source": [
    "def get_city_coordinates(city_name, country):\n",
    "    cities = pd.read_csv(\"worldcities.csv\")\n",
    "    city = cities[\n",
    "        (cities['city'].str.lower() == city_name.lower()) &\n",
    "        (cities['country'].str.lower() == country.lower())\n",
    "    ]\n",
    "    if city.empty:\n",
    "        print(f\"La ciudad '{city_name}' no se encontró en el archivo.\")\n",
    "        return None, None\n",
    "    a=float(city.iloc[0]['lat'])\n",
    "    b= float(city.iloc[0]['lng'])\n",
    "    print(f\"La latitud y longitud de {city_name}:{country} es {a} y {b}\")\n",
    "\n",
    "    return float(city.iloc[0]['lat']), float(city.iloc[0]['lng'])  #Sacar un longitud y latitud\n",
    "\n",
    "\n",
    "def get_coordinates(city, country):\n",
    "    \"\"\"Consulta la API de Nominatim y valida los resultados.\"\"\"\n",
    "    url = f\"https://nominatim.openstreetmap.org/search?q={city},{country}&format=json\"\n",
    "\n",
    "    # Agregar un encabezado User-Agent\n",
    "    headers = {\n",
    "        \"User-Agent\": \"MiAplicacion/1.0 (lando.veramendi@utec.edu.pe)\"  # Cambia esto por tu propia información\n",
    "    }\n",
    "\n",
    "    response = requests.get(url, headers=headers)\n",
    "\n",
    "    if response.status_code == 200 and response.json():\n",
    "        data = response.json()  # Obtener todos los resultados\n",
    "\n",
    "        # Tomar el primer resultado\n",
    "        first_result = data[0]\n",
    "        lat, lon = float(first_result['lat']), float(first_result['lon'])\n",
    "\n",
    "        # Mostrar información adicional\n",
    "        print(f\"Coordenadas encontradas: {lat}, {lon} para {city}, {country}\")\n",
    "\n",
    "        return lat, lon\n",
    "    else:\n",
    "        print(f\"No se encontraron coordenadas para {city}, {country}. Código de estado: {response.status_code}\")\n",
    "        return None, None\n",
    "\n",
    "def mock():\n",
    "    \"\"\"Mock: Devuelve coordenadas fijas para pruebas.\"\"\"\n",
    "    print(\"Usando mock: Devuelve siempre las coordenadas de Lima y Buenos Aires.\")\n",
    "    lat1, lon1 = -12.0464, -77.0428  # Lima, Perú\n",
    "    lat2, lon2 = -34.6037, -58.3816  # Buenos Aires, Argentina\n",
    "    print(haversine(lat1, lon1, lat2, lon2),\"km\")\n"
   ]
  },
  {
   "cell_type": "markdown",
   "metadata": {
    "id": "-zu99w3YkR-n"
   },
   "source": [
    "  **Primera Forma**"
   ]
  },
  {
   "cell_type": "code",
   "execution_count": 4,
   "metadata": {
    "colab": {
     "base_uri": "https://localhost:8080/"
    },
    "id": "CZmFbDN6kPJh",
    "outputId": "8ca92a50-6dc3-402e-d5c3-34193585cdd5"
   },
   "outputs": [
    {
     "ename": "KeyError",
     "evalue": "'city'",
     "output_type": "error",
     "traceback": [
      "\u001b[1;31m---------------------------------------------------------------------------\u001b[0m",
      "\u001b[1;31mKeyError\u001b[0m                                  Traceback (most recent call last)",
      "File \u001b[1;32m~\\AppData\\Roaming\\Python\\Python312\\site-packages\\pandas\\core\\indexes\\base.py:3791\u001b[0m, in \u001b[0;36mIndex.get_loc\u001b[1;34m(self, key)\u001b[0m\n\u001b[0;32m   3790\u001b[0m \u001b[38;5;28;01mtry\u001b[39;00m:\n\u001b[1;32m-> 3791\u001b[0m     \u001b[38;5;28;01mreturn\u001b[39;00m \u001b[38;5;28;43mself\u001b[39;49m\u001b[38;5;241;43m.\u001b[39;49m\u001b[43m_engine\u001b[49m\u001b[38;5;241;43m.\u001b[39;49m\u001b[43mget_loc\u001b[49m\u001b[43m(\u001b[49m\u001b[43mcasted_key\u001b[49m\u001b[43m)\u001b[49m\n\u001b[0;32m   3792\u001b[0m \u001b[38;5;28;01mexcept\u001b[39;00m \u001b[38;5;167;01mKeyError\u001b[39;00m \u001b[38;5;28;01mas\u001b[39;00m err:\n",
      "File \u001b[1;32mindex.pyx:152\u001b[0m, in \u001b[0;36mpandas._libs.index.IndexEngine.get_loc\u001b[1;34m()\u001b[0m\n",
      "File \u001b[1;32mindex.pyx:181\u001b[0m, in \u001b[0;36mpandas._libs.index.IndexEngine.get_loc\u001b[1;34m()\u001b[0m\n",
      "File \u001b[1;32mpandas\\_libs\\hashtable_class_helper.pxi:7080\u001b[0m, in \u001b[0;36mpandas._libs.hashtable.PyObjectHashTable.get_item\u001b[1;34m()\u001b[0m\n",
      "File \u001b[1;32mpandas\\_libs\\hashtable_class_helper.pxi:7088\u001b[0m, in \u001b[0;36mpandas._libs.hashtable.PyObjectHashTable.get_item\u001b[1;34m()\u001b[0m\n",
      "\u001b[1;31mKeyError\u001b[0m: 'city'",
      "\nThe above exception was the direct cause of the following exception:\n",
      "\u001b[1;31mKeyError\u001b[0m                                  Traceback (most recent call last)",
      "Cell \u001b[1;32mIn[4], line 19\u001b[0m\n\u001b[0;32m     16\u001b[0m     \u001b[38;5;28mprint\u001b[39m(\u001b[38;5;124mf\u001b[39m\u001b[38;5;124m\"\u001b[39m\u001b[38;5;124mLa distancia entre \u001b[39m\u001b[38;5;132;01m{\u001b[39;00mcity1\u001b[38;5;132;01m}\u001b[39;00m\u001b[38;5;124m y \u001b[39m\u001b[38;5;132;01m{\u001b[39;00mcity2\u001b[38;5;132;01m}\u001b[39;00m\u001b[38;5;124m es de \u001b[39m\u001b[38;5;132;01m{\u001b[39;00mdistance\u001b[38;5;132;01m:\u001b[39;00m\u001b[38;5;124m.2f\u001b[39m\u001b[38;5;132;01m}\u001b[39;00m\u001b[38;5;124m km.\u001b[39m\u001b[38;5;124m\"\u001b[39m)\n\u001b[0;32m     18\u001b[0m \u001b[38;5;28;01mif\u001b[39;00m \u001b[38;5;18m__name__\u001b[39m \u001b[38;5;241m==\u001b[39m \u001b[38;5;124m\"\u001b[39m\u001b[38;5;124m__main__\u001b[39m\u001b[38;5;124m\"\u001b[39m:\n\u001b[1;32m---> 19\u001b[0m     \u001b[43mmain\u001b[49m\u001b[43m(\u001b[49m\u001b[43m)\u001b[49m\n",
      "Cell \u001b[1;32mIn[4], line 8\u001b[0m, in \u001b[0;36mmain\u001b[1;34m()\u001b[0m\n\u001b[0;32m      6\u001b[0m country \u001b[38;5;241m=\u001b[39m \u001b[38;5;28minput\u001b[39m(\u001b[38;5;124m\"\u001b[39m\u001b[38;5;124mIngrese el nombre del país de la primera ciudad: \u001b[39m\u001b[38;5;124m\"\u001b[39m)\n\u001b[0;32m      7\u001b[0m country2 \u001b[38;5;241m=\u001b[39m \u001b[38;5;28minput\u001b[39m(\u001b[38;5;124m\"\u001b[39m\u001b[38;5;124mIngrese el nombre del país de la segunda ciudad: \u001b[39m\u001b[38;5;124m\"\u001b[39m)\n\u001b[1;32m----> 8\u001b[0m lat1, lon1 \u001b[38;5;241m=\u001b[39m \u001b[43mget_city_coordinates\u001b[49m\u001b[43m(\u001b[49m\u001b[43mcity1\u001b[49m\u001b[43m,\u001b[49m\u001b[43mcountry\u001b[49m\u001b[43m)\u001b[49m\n\u001b[0;32m      9\u001b[0m lat2, lon2 \u001b[38;5;241m=\u001b[39m get_city_coordinates(city2,country2)\n\u001b[0;32m     11\u001b[0m \u001b[38;5;28;01mif\u001b[39;00m \u001b[38;5;28;01mNone\u001b[39;00m \u001b[38;5;129;01min\u001b[39;00m (lat1, lon1, lat2, lon2):\n",
      "Cell \u001b[1;32mIn[3], line 4\u001b[0m, in \u001b[0;36mget_city_coordinates\u001b[1;34m(city_name, country)\u001b[0m\n\u001b[0;32m      1\u001b[0m \u001b[38;5;28;01mdef\u001b[39;00m \u001b[38;5;21mget_city_coordinates\u001b[39m(city_name, country):\n\u001b[0;32m      2\u001b[0m     cities \u001b[38;5;241m=\u001b[39m pd\u001b[38;5;241m.\u001b[39mread_csv(\u001b[38;5;124m\"\u001b[39m\u001b[38;5;124mworldcities.csv\u001b[39m\u001b[38;5;124m\"\u001b[39m)\n\u001b[0;32m      3\u001b[0m     city \u001b[38;5;241m=\u001b[39m cities[\n\u001b[1;32m----> 4\u001b[0m         (\u001b[43mcities\u001b[49m\u001b[43m[\u001b[49m\u001b[38;5;124;43m'\u001b[39;49m\u001b[38;5;124;43mcity\u001b[39;49m\u001b[38;5;124;43m'\u001b[39;49m\u001b[43m]\u001b[49m\u001b[38;5;241m.\u001b[39mstr\u001b[38;5;241m.\u001b[39mlower() \u001b[38;5;241m==\u001b[39m city_name\u001b[38;5;241m.\u001b[39mlower()) \u001b[38;5;241m&\u001b[39m\n\u001b[0;32m      5\u001b[0m         (cities[\u001b[38;5;124m'\u001b[39m\u001b[38;5;124mcountry\u001b[39m\u001b[38;5;124m'\u001b[39m]\u001b[38;5;241m.\u001b[39mstr\u001b[38;5;241m.\u001b[39mlower() \u001b[38;5;241m==\u001b[39m country\u001b[38;5;241m.\u001b[39mlower())\n\u001b[0;32m      6\u001b[0m     ]\n\u001b[0;32m      7\u001b[0m     \u001b[38;5;28;01mif\u001b[39;00m city\u001b[38;5;241m.\u001b[39mempty:\n\u001b[0;32m      8\u001b[0m         \u001b[38;5;28mprint\u001b[39m(\u001b[38;5;124mf\u001b[39m\u001b[38;5;124m\"\u001b[39m\u001b[38;5;124mLa ciudad \u001b[39m\u001b[38;5;124m'\u001b[39m\u001b[38;5;132;01m{\u001b[39;00mcity_name\u001b[38;5;132;01m}\u001b[39;00m\u001b[38;5;124m'\u001b[39m\u001b[38;5;124m no se encontró en el archivo.\u001b[39m\u001b[38;5;124m\"\u001b[39m)\n",
      "File \u001b[1;32m~\\AppData\\Roaming\\Python\\Python312\\site-packages\\pandas\\core\\frame.py:3893\u001b[0m, in \u001b[0;36mDataFrame.__getitem__\u001b[1;34m(self, key)\u001b[0m\n\u001b[0;32m   3891\u001b[0m \u001b[38;5;28;01mif\u001b[39;00m \u001b[38;5;28mself\u001b[39m\u001b[38;5;241m.\u001b[39mcolumns\u001b[38;5;241m.\u001b[39mnlevels \u001b[38;5;241m>\u001b[39m \u001b[38;5;241m1\u001b[39m:\n\u001b[0;32m   3892\u001b[0m     \u001b[38;5;28;01mreturn\u001b[39;00m \u001b[38;5;28mself\u001b[39m\u001b[38;5;241m.\u001b[39m_getitem_multilevel(key)\n\u001b[1;32m-> 3893\u001b[0m indexer \u001b[38;5;241m=\u001b[39m \u001b[38;5;28;43mself\u001b[39;49m\u001b[38;5;241;43m.\u001b[39;49m\u001b[43mcolumns\u001b[49m\u001b[38;5;241;43m.\u001b[39;49m\u001b[43mget_loc\u001b[49m\u001b[43m(\u001b[49m\u001b[43mkey\u001b[49m\u001b[43m)\u001b[49m\n\u001b[0;32m   3894\u001b[0m \u001b[38;5;28;01mif\u001b[39;00m is_integer(indexer):\n\u001b[0;32m   3895\u001b[0m     indexer \u001b[38;5;241m=\u001b[39m [indexer]\n",
      "File \u001b[1;32m~\\AppData\\Roaming\\Python\\Python312\\site-packages\\pandas\\core\\indexes\\base.py:3798\u001b[0m, in \u001b[0;36mIndex.get_loc\u001b[1;34m(self, key)\u001b[0m\n\u001b[0;32m   3793\u001b[0m     \u001b[38;5;28;01mif\u001b[39;00m \u001b[38;5;28misinstance\u001b[39m(casted_key, \u001b[38;5;28mslice\u001b[39m) \u001b[38;5;129;01mor\u001b[39;00m (\n\u001b[0;32m   3794\u001b[0m         \u001b[38;5;28misinstance\u001b[39m(casted_key, abc\u001b[38;5;241m.\u001b[39mIterable)\n\u001b[0;32m   3795\u001b[0m         \u001b[38;5;129;01mand\u001b[39;00m \u001b[38;5;28many\u001b[39m(\u001b[38;5;28misinstance\u001b[39m(x, \u001b[38;5;28mslice\u001b[39m) \u001b[38;5;28;01mfor\u001b[39;00m x \u001b[38;5;129;01min\u001b[39;00m casted_key)\n\u001b[0;32m   3796\u001b[0m     ):\n\u001b[0;32m   3797\u001b[0m         \u001b[38;5;28;01mraise\u001b[39;00m InvalidIndexError(key)\n\u001b[1;32m-> 3798\u001b[0m     \u001b[38;5;28;01mraise\u001b[39;00m \u001b[38;5;167;01mKeyError\u001b[39;00m(key) \u001b[38;5;28;01mfrom\u001b[39;00m \u001b[38;5;21;01merr\u001b[39;00m\n\u001b[0;32m   3799\u001b[0m \u001b[38;5;28;01mexcept\u001b[39;00m \u001b[38;5;167;01mTypeError\u001b[39;00m:\n\u001b[0;32m   3800\u001b[0m     \u001b[38;5;66;03m# If we have a listlike key, _check_indexing_error will raise\u001b[39;00m\n\u001b[0;32m   3801\u001b[0m     \u001b[38;5;66;03m#  InvalidIndexError. Otherwise we fall through and re-raise\u001b[39;00m\n\u001b[0;32m   3802\u001b[0m     \u001b[38;5;66;03m#  the TypeError.\u001b[39;00m\n\u001b[0;32m   3803\u001b[0m     \u001b[38;5;28mself\u001b[39m\u001b[38;5;241m.\u001b[39m_check_indexing_error(key)\n",
      "\u001b[1;31mKeyError\u001b[0m: 'city'"
     ]
    }
   ],
   "source": [
    "import math\n",
    "\n",
    "def main():\n",
    "    city1 = input(\"Ingrese el nombre de la primera ciudad: \")\n",
    "    city2 = input(\"Ingrese el nombre de la segunda ciudad: \")\n",
    "    country = input(\"Ingrese el nombre del país de la primera ciudad: \")\n",
    "    country2 = input(\"Ingrese el nombre del país de la segunda ciudad: \")\n",
    "    lat1, lon1 = get_city_coordinates(city1,country)\n",
    "    lat2, lon2 = get_city_coordinates(city2,country2)\n",
    "\n",
    "    if None in (lat1, lon1, lat2, lon2):\n",
    "        print(\"No se pudo calcular la distancia. Verifique los nombres de las ciudades.\")\n",
    "        return\n",
    "\n",
    "    distance = haversine(lat1, lon1, lat2, lon2)\n",
    "    print(f\"La distancia entre {city1} y {city2} es de {distance:.2f} km.\")\n",
    "\n",
    "if __name__ == \"__main__\":\n",
    "    main()"
   ]
  },
  {
   "cell_type": "markdown",
   "metadata": {
    "id": "9Ox2j8upmfF6"
   },
   "source": [
    "***SEGUNDA FORMA:***\n"
   ]
  },
  {
   "cell_type": "code",
   "execution_count": null,
   "metadata": {
    "colab": {
     "base_uri": "https://localhost:8080/"
    },
    "id": "PpwgzmCRmi1F",
    "outputId": "f23e057f-b461-4814-c8c8-0f73abb45637"
   },
   "outputs": [
    {
     "name": "stdout",
     "output_type": "stream",
     "text": [
      "Ingrese el nombre de la primera ciudad: Tokyo\n",
      "Ingrese el nombre de la segunda ciudad: Lima\n",
      "Ingrese el nombre del país: Japan\n",
      "Ingrese el nombre del segundo país: Peru\n",
      "Coordenadas encontradas: 35.6768601, 139.7638947 para Tokyo, Japan\n",
      "Coordenadas encontradas: -12.0621065, -77.0365256 para Lima, Peru\n",
      "La distancia entre Tokyo y Lima es de 15487.75 km.\n"
     ]
    }
   ],
   "source": [
    "import requests\n",
    "import math\n",
    "\n",
    "def main():\n",
    "    city1 = input(\"Ingrese el nombre de la primera ciudad: \")\n",
    "    city2 = input(\"Ingrese el nombre de la segunda ciudad: \")\n",
    "    country = input(\"Ingrese el nombre del país de la primera ciudad: \")\n",
    "    country2 = input(\"Ingrese el nombre del país de la segunda ciudad: \")\n",
    "    lat1, lon1 = get_coordinates(city1,country)\n",
    "    lat2, lon2 = get_coordinates(city2,country2)\n",
    "\n",
    "    if None in (lat1, lon1, lat2, lon2):\n",
    "        print(\"No se pudo calcular la distancia. Verifique los nombres de las ciudades.\")\n",
    "        return\n",
    "\n",
    "    distance = haversine(lat1, lon1, lat2, lon2)\n",
    "    print(f\"La distancia entre {city1} y {city2} es de {distance:.2f} km.\")\n",
    "\n",
    "if __name__ == \"__main__\":\n",
    "    main()\n"
   ]
  },
  {
   "cell_type": "markdown",
   "metadata": {
    "id": "WliQt9msrPJT"
   },
   "source": [
    "**Usando interfaz para cambiar entre forma**"
   ]
  },
  {
   "cell_type": "code",
   "execution_count": null,
   "metadata": {
    "colab": {
     "base_uri": "https://localhost:8080/"
    },
    "id": "oqIGPPrUrOrD",
    "outputId": "3d005069-2c19-41f7-fbae-065c2178c898"
   },
   "outputs": [
    {
     "name": "stdout",
     "output_type": "stream",
     "text": [
      "Selccione la forma en el cual desea obtener su respuesta:\n",
      "Ingrese 1 para usar csv:\n",
      "Ingrese 2 para usar una API:\n",
      "Ingrese 3 para usar mock:\n",
      "valor: 2\n",
      "Ingrese el nombre de la primera ciudad: Lima\n",
      "Ingrese el nombre de la segunda ciudad: Tokyo\n",
      "Ingrese el nombre del país: Peru\n",
      "Ingrese el nombre del segundo país: Japan\n",
      "Coordenadas encontradas: -12.0621065, -77.0365256 para Lima, Peru\n",
      "Coordenadas encontradas: 35.6768601, 139.7638947 para Tokyo, Japan\n",
      "La distancia entre Lima y Tokyo, usando la API es de 15487.75 km.\n"
     ]
    }
   ],
   "source": [
    "def main():\n",
    "   print(\"Selccione la forma en el cual desea obtener su respuesta:\")\n",
    "   print(\"Ingrese 1 para usar csv:\")\n",
    "   print(\"Ingrese 2 para usar una API:\")\n",
    "   print(\"Ingrese 3 para usar mock:\")\n",
    "   switch = input(\"valor: \")\n",
    "   if switch == \"3\":\n",
    "      mock()\n",
    "      return\n",
    "   city1 = input(\"Ingrese el nombre de la primera ciudad: \")\n",
    "   city2 = input(\"Ingrese el nombre de la segunda ciudad: \")\n",
    "   country = input(\"Ingrese el nombre del país de la primera ciudad: \")\n",
    "   country2 = input(\"Ingrese el nombre del país de la segunda ciudad: \")\n",
    "\n",
    "\n",
    "   if switch == \"1\":\n",
    "      lat1, lon1 = get_city_coordinates(city1,country)\n",
    "      lat2, lon2 = get_city_coordinates(city2,country2)\n",
    "      if None in (lat1, lon1, lat2, lon2):\n",
    "        print(\"No se pudo calcular la distancia. Verifique los nombres de las ciudades.\")\n",
    "        return\n",
    "      distance = haversine(lat1, lon1, lat2, lon2)\n",
    "      print(f\"La distancia entre {city1} y {city2}, usando CSV es de {distance:.2f} km.\")\n",
    "   elif switch == \"2\":\n",
    "      lat1, lon1 = get_coordinates(city1,country)\n",
    "      lat2, lon2 = get_coordinates(city2,country2)\n",
    "      if None in (lat1, lon1, lat2, lon2):\n",
    "        print(\"No se pudo calcular la distancia. Verifique los nombres de las ciudades.\")\n",
    "        return\n",
    "      distance = haversine(lat1, lon1, lat2, lon2)\n",
    "      print(f\"La distancia entre {city1} y {city2}, usando la API es de {distance:.2f} km.\")\n",
    "   else:\n",
    "      print(\"valor no valido\")\n",
    "      return\n",
    "\n",
    "\n",
    "if __name__ == \"__main__\":\n",
    "    main()"
   ]
  },
  {
   "cell_type": "markdown",
   "metadata": {},
   "source": [
    "**Caso Extremo:** ciudad desconocida\n",
    "\n",
    "**Precondicion:** Por lo menos una de las ciudades no es accesible en la API o no existe en el dataset \"worldcities.csv\"\n",
    "\n",
    "**Pasos de Prueba:**\n",
    "1. Correr el codigo.\n",
    "2. escoger la fuente a usar (opciones 1, 2 o 3).\n",
    "3. Ingresar el nombre de una ciudad que no existe. Luego, ingresar la segunda ciudad (imaginaria o no).\n",
    "4. Ingresar los paises de las dos ciudades correspondientes.\n",
    "5. Presionar la tecla \"Enter\".\n",
    "\n",
    "**Text Data:**\n",
    "- ciudad1: Atlantida\n",
    "- ciudad2: Tokyo o Tokio\n",
    "- pais1: Mar\n",
    "- pais2: Japan o Japon\n",
    "\n",
    "**Resultado Esperado:** Mostrara los siguientes mensajes \"No se pudo calcular la distancia. Verifique los nombres de las ciudades."
   ]
  },
  {
   "cell_type": "markdown",
   "metadata": {},
   "source": [
    "**Caso Extremo:** misma ciudad\n",
    "\n",
    "**Precondicion:** Se ingresa la misma ciudad en ambos imputs de ciudad y el mismo pais.\n",
    "\n",
    "**Pasos de Prueba:**\n",
    "1. Correr el código.\n",
    "2. Escoger la fuente a usar (cualquiera)\n",
    "3. Ingresar el nombre de una ciudad dos veces.\n",
    "4. Ingresar el nombre del país que corresponde a la ciudad 2 veces.\n",
    "5. Presionar la tecla \"Enter\".\n",
    "\n",
    "**Text Data:**\n",
    "- ciudad1: Tokyo o Tokio\n",
    "- ciudad2: Tokyo o Tokio\n",
    "- pais1: Japan o Japon\n",
    "- pais2: Japan o Japon\n",
    "\n",
    "**Resultado Esperado:** Se muestran las coordenadas de la ciudad 2 veces y la distancia es igual a 0."
   ]
  },
  {
   "cell_type": "code",
   "execution_count": null,
   "metadata": {},
   "outputs": [],
   "source": [
    "import unittest\n",
    "import funct\n",
    "\n",
    "class TestCityFunctions(unittest.TestCase):\n",
    "    def Success_case(city1,city2,country1,country2,switch):\n",
    "        if switch==1:\n",
    "            lat1, lon1 = funct.get_city_coordinates(city1,country1)\n",
    "            lat2, lon2 = funct.get_city_coordinates(city2,country2)\n",
    "        elif switch==2:\n",
    "            lat1, lon1 = funct.get_coordinates(city1,country1)\n",
    "            lat2, lon2 = funct.get_coordinates(city2,country2)\n",
    "        distance = funct.haversine(lat1, lon1, lat2, lon2)\n",
    "        print(\"Son ciudades y países diferentes, entonces esta es la distancia  {distance} \")\n",
    "\n",
    "    def test_unknown_city_csv(self):\n",
    "        city1, country1 = \"UnknownCity1\", \"Country1\"\n",
    "        city2, country2 = \"UnknownCity2\", \"Country2\"\n",
    "        lat1, lon1 = funct.get_city_coordinates(city1, country1)\n",
    "        lat2, lon2 = funct.get_city_coordinates(city2, country2)\n",
    "        self.assertIsNone(lat1, f\"La ciudad '{city1}' no se encontró en el archivo.\")\n",
    "        self.assertIsNone(lon1, f\"La ciudad '{city1}' no se encontró en el archivo.\")\n",
    "        self.assertIsNone(lat2, f\"La ciudad '{city2}' no se encontró en el archivo.\")\n",
    "        self.assertIsNone(lon2, f\"La ciudad '{city2}' no se encontró en el archivo.\")\n",
    "\n",
    "    def test_unknown_city_api(self):\n",
    "        city1, country1 = \"UnknownCity1\", \"Country1\"\n",
    "        city2, country2 = \"UnknownCity2\", \"Country2\"\n",
    "        lat1, lon1 = funct.get_coordinates(city1, country1)\n",
    "        lat2, lon2 = funct.get_coordinates(city2, country2)\n",
    "        self.assertIsNone(lat1, f\"No se encontraron coordenadas para {city1}, {country1}.\")\n",
    "        self.assertIsNone(lon1, f\"No se encontraron coordenadas para {city1}, {country1}.\")\n",
    "        self.assertIsNone(lat2, f\"No se encontraron coordenadas para {city2}, {country2}.\")\n",
    "        self.assertIsNone(lon2, f\"No se encontraron coordenadas para {city2}, {country2}.\")\n",
    "\n",
    "    def test_same_city_csv(self):\n",
    "        city, country = \"Lima\", \"Peru\"\n",
    "        lat1, lon1 = funct.get_city_coordinates(city, country)\n",
    "        lat2, lon2 = funct.get_city_coordinates(city, country)\n",
    "        distance = funct.haversine(lat1, lon1, lat2, lon2)\n",
    "        self.assertEqual(distance, 0, \"La distancia debe ser cero para la misma ciudad y país usando CSV.\")\n",
    "\n",
    "    def test_same_city_api(self):\n",
    "        city, country = \"Lima\", \"Peru\"\n",
    "        lat1, lon1 = funct.get_coordinates(city, country)\n",
    "        lat2, lon2 = funct.get_coordinates(city, country)\n",
    "        distance = funct.haversine(lat1, lon1, lat2, lon2)\n",
    "        self.assertEqual(distance, 0, \"La distancia debe ser cero para la misma ciudad y país usando la API.\")\n",
    "\n",
    "if __name__ == \"__main__\":\n",
    "    unittest.main()\n"
   ]
  }
 ],
 "metadata": {
  "colab": {
   "provenance": []
  },
  "kernelspec": {
   "display_name": "Python 3",
   "name": "python3"
  },
  "language_info": {
   "codemirror_mode": {
    "name": "ipython",
    "version": 3
   },
   "file_extension": ".py",
   "mimetype": "text/x-python",
   "name": "python",
   "nbconvert_exporter": "python",
   "pygments_lexer": "ipython3",
   "version": "3.12.1"
  }
 },
 "nbformat": 4,
 "nbformat_minor": 0
}
